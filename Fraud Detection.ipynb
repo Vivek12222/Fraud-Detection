{
 "cells": [
  {
   "cell_type": "markdown",
   "id": "a3cc28ed-281c-4b77-9a97-8d9f07bcf7ef",
   "metadata": {},
   "source": [
    "# Fraud Detection"
   ]
  },
  {
   "cell_type": "markdown",
   "id": "1a3a5b4b-c70a-40b5-9d90-c7af00c2ffb9",
   "metadata": {},
   "source": [
    "Our fraud detection model uses a hybrid approach that combines both rule-based logic and machine learning techniques to detect fraudulent transactions effectively. First, it employs an Isolation Forest, which is an unsupervised model that identifies unusual or suspicious transaction patterns — this helps flag outliers that may not yet be known as fraud but appear risky based on behavior. Then, we use a supervised machine learning model called XGBoost, which is trained on historical labeled data to recognize common fraud patterns. The model uses inputs like transaction amount, type (e.g., transfer, cash out), balance behavior, and the anomaly score from the Isolation Forest. This combination allows the system to detect both familiar types of fraud and new, emerging threats with high accuracy, making it suitable for use in real-time fraud prevention. It’s a solution that balances sophistication for data scientists with clear outputs and decisions for business teams."
   ]
  },
  {
   "cell_type": "markdown",
   "id": "b72c156c-e78d-4e5d-8216-30adcb0a5ff4",
   "metadata": {},
   "source": [
    "## Import all necessary libraries"
   ]
  },
  {
   "cell_type": "code",
   "execution_count": 1,
   "id": "82408045-b722-4df2-810d-c89e2e1d07fb",
   "metadata": {},
   "outputs": [],
   "source": [
    "import pandas as pd\n",
    "import numpy as np\n",
    "import matplotlib.pyplot as plt\n",
    "import seaborn as sns\n",
    "from sklearn.model_selection import train_test_split\n",
    "from sklearn.preprocessing import MinMaxScaler\n",
    "from sklearn.ensemble import IsolationForest\n",
    "from imblearn.over_sampling import SMOTE\n",
    "from xgboost import XGBClassifier\n",
    "from sklearn.metrics import classification_report, confusion_matrix, roc_auc_score, roc_curve"
   ]
  },
  {
   "cell_type": "markdown",
   "id": "8123d120-83f7-49ce-9b37-c5ebebeaa8c5",
   "metadata": {},
   "source": [
    "## 1. Data Exploration and Data Cleaning"
   ]
  },
  {
   "cell_type": "markdown",
   "id": "08be4b82-a231-42fa-bae3-72e6c8dad62d",
   "metadata": {},
   "source": [
    "This is the initial data loading and understanding the data step. Before moving further, it is important to understand the data and its data structure. We start by loading the data and inspecting the number of rows and columns and also have to chcek whether any column/row have null or NaN values as they may cause further error during model training."
   ]
  },
  {
   "cell_type": "code",
   "execution_count": 2,
   "id": "89726985-6c14-478f-9944-4b57b71891d8",
   "metadata": {},
   "outputs": [
    {
     "data": {
      "text/html": [
       "<div>\n",
       "<style scoped>\n",
       "    .dataframe tbody tr th:only-of-type {\n",
       "        vertical-align: middle;\n",
       "    }\n",
       "\n",
       "    .dataframe tbody tr th {\n",
       "        vertical-align: top;\n",
       "    }\n",
       "\n",
       "    .dataframe thead th {\n",
       "        text-align: right;\n",
       "    }\n",
       "</style>\n",
       "<table border=\"1\" class=\"dataframe\">\n",
       "  <thead>\n",
       "    <tr style=\"text-align: right;\">\n",
       "      <th></th>\n",
       "      <th>step</th>\n",
       "      <th>type</th>\n",
       "      <th>amount</th>\n",
       "      <th>nameOrig</th>\n",
       "      <th>oldbalanceOrg</th>\n",
       "      <th>newbalanceOrig</th>\n",
       "      <th>nameDest</th>\n",
       "      <th>oldbalanceDest</th>\n",
       "      <th>newbalanceDest</th>\n",
       "      <th>isFraud</th>\n",
       "      <th>isFlaggedFraud</th>\n",
       "    </tr>\n",
       "  </thead>\n",
       "  <tbody>\n",
       "    <tr>\n",
       "      <th>0</th>\n",
       "      <td>1</td>\n",
       "      <td>PAYMENT</td>\n",
       "      <td>9839.64</td>\n",
       "      <td>C1231006815</td>\n",
       "      <td>170136.0</td>\n",
       "      <td>160296.36</td>\n",
       "      <td>M1979787155</td>\n",
       "      <td>0.0</td>\n",
       "      <td>0.0</td>\n",
       "      <td>0</td>\n",
       "      <td>0</td>\n",
       "    </tr>\n",
       "    <tr>\n",
       "      <th>1</th>\n",
       "      <td>1</td>\n",
       "      <td>PAYMENT</td>\n",
       "      <td>1864.28</td>\n",
       "      <td>C1666544295</td>\n",
       "      <td>21249.0</td>\n",
       "      <td>19384.72</td>\n",
       "      <td>M2044282225</td>\n",
       "      <td>0.0</td>\n",
       "      <td>0.0</td>\n",
       "      <td>0</td>\n",
       "      <td>0</td>\n",
       "    </tr>\n",
       "    <tr>\n",
       "      <th>2</th>\n",
       "      <td>1</td>\n",
       "      <td>TRANSFER</td>\n",
       "      <td>181.00</td>\n",
       "      <td>C1305486145</td>\n",
       "      <td>181.0</td>\n",
       "      <td>0.00</td>\n",
       "      <td>C553264065</td>\n",
       "      <td>0.0</td>\n",
       "      <td>0.0</td>\n",
       "      <td>1</td>\n",
       "      <td>0</td>\n",
       "    </tr>\n",
       "    <tr>\n",
       "      <th>3</th>\n",
       "      <td>1</td>\n",
       "      <td>CASH_OUT</td>\n",
       "      <td>181.00</td>\n",
       "      <td>C840083671</td>\n",
       "      <td>181.0</td>\n",
       "      <td>0.00</td>\n",
       "      <td>C38997010</td>\n",
       "      <td>21182.0</td>\n",
       "      <td>0.0</td>\n",
       "      <td>1</td>\n",
       "      <td>0</td>\n",
       "    </tr>\n",
       "    <tr>\n",
       "      <th>4</th>\n",
       "      <td>1</td>\n",
       "      <td>PAYMENT</td>\n",
       "      <td>11668.14</td>\n",
       "      <td>C2048537720</td>\n",
       "      <td>41554.0</td>\n",
       "      <td>29885.86</td>\n",
       "      <td>M1230701703</td>\n",
       "      <td>0.0</td>\n",
       "      <td>0.0</td>\n",
       "      <td>0</td>\n",
       "      <td>0</td>\n",
       "    </tr>\n",
       "  </tbody>\n",
       "</table>\n",
       "</div>"
      ],
      "text/plain": [
       "   step      type    amount     nameOrig  oldbalanceOrg  newbalanceOrig  \\\n",
       "0     1   PAYMENT   9839.64  C1231006815       170136.0       160296.36   \n",
       "1     1   PAYMENT   1864.28  C1666544295        21249.0        19384.72   \n",
       "2     1  TRANSFER    181.00  C1305486145          181.0            0.00   \n",
       "3     1  CASH_OUT    181.00   C840083671          181.0            0.00   \n",
       "4     1   PAYMENT  11668.14  C2048537720        41554.0        29885.86   \n",
       "\n",
       "      nameDest  oldbalanceDest  newbalanceDest  isFraud  isFlaggedFraud  \n",
       "0  M1979787155             0.0             0.0        0               0  \n",
       "1  M2044282225             0.0             0.0        0               0  \n",
       "2   C553264065             0.0             0.0        1               0  \n",
       "3    C38997010         21182.0             0.0        1               0  \n",
       "4  M1230701703             0.0             0.0        0               0  "
      ]
     },
     "execution_count": 2,
     "metadata": {},
     "output_type": "execute_result"
    }
   ],
   "source": [
    "Dataframe = pd.read_csv(\"../data/Fraud.csv\")\n",
    "Dataframe.head()"
   ]
  },
  {
   "cell_type": "code",
   "execution_count": 3,
   "id": "850c3f9c-757e-41c0-8326-6d7e071ca6dd",
   "metadata": {},
   "outputs": [
    {
     "data": {
      "text/plain": [
       "step              0\n",
       "type              0\n",
       "amount            0\n",
       "nameOrig          0\n",
       "oldbalanceOrg     0\n",
       "newbalanceOrig    0\n",
       "nameDest          0\n",
       "oldbalanceDest    0\n",
       "newbalanceDest    0\n",
       "isFraud           0\n",
       "isFlaggedFraud    0\n",
       "dtype: int64"
      ]
     },
     "execution_count": 3,
     "metadata": {},
     "output_type": "execute_result"
    }
   ],
   "source": [
    "Dataframe.isnull().sum()"
   ]
  },
  {
   "cell_type": "code",
   "execution_count": 4,
   "id": "fa661c2e-c53e-4e31-aca3-4a5d2f133e57",
   "metadata": {},
   "outputs": [
    {
     "data": {
      "text/plain": [
       "step              0\n",
       "type              0\n",
       "amount            0\n",
       "nameOrig          0\n",
       "oldbalanceOrg     0\n",
       "newbalanceOrig    0\n",
       "nameDest          0\n",
       "oldbalanceDest    0\n",
       "newbalanceDest    0\n",
       "isFraud           0\n",
       "isFlaggedFraud    0\n",
       "dtype: int64"
      ]
     },
     "execution_count": 4,
     "metadata": {},
     "output_type": "execute_result"
    }
   ],
   "source": [
    "Dataframe.isna().sum()"
   ]
  },
  {
   "cell_type": "markdown",
   "id": "74f104cb-2134-48d3-aa35-b848a01f3641",
   "metadata": {},
   "source": [
    "The dataset has no null values and NaN(Not a Number) values. So, we are good to go."
   ]
  },
  {
   "cell_type": "code",
   "execution_count": 5,
   "id": "2fbf11d0-c823-4f29-be6d-c1c220afc212",
   "metadata": {},
   "outputs": [
    {
     "name": "stdout",
     "output_type": "stream",
     "text": [
      "isFraud\n",
      "0    6354407\n",
      "1       8213\n",
      "Name: count, dtype: int64\n"
     ]
    }
   ],
   "source": [
    "print(Dataframe['isFraud'].value_counts())"
   ]
  },
  {
   "cell_type": "markdown",
   "id": "499c712c-1e8b-4955-8d96-093bd52e1bd9",
   "metadata": {},
   "source": [
    "## 2. Exploratory Data Analysis"
   ]
  },
  {
   "cell_type": "markdown",
   "id": "d05f282f-a106-4dcf-9e83-30799aacfe1a",
   "metadata": {},
   "source": [
    "Exploratory Data Analysis (EDA) is a crucial step in follwing the process of Data Science as it is the process of summarizing, understanding and visualizing the data for better understanding and also can be used to explain it for clients or customers. It helps to understand features and data visually an also identify patterns, detect outliers and tells which feature have more importance for prediction/classification.\n",
    "\n",
    "<b>EDA ==> RawData->Actionable Insights</b>"
   ]
  },
  {
   "cell_type": "markdown",
   "id": "111589f2-b531-44dd-9c0f-43136fa746de",
   "metadata": {},
   "source": [
    "### A. Class Distribution"
   ]
  },
  {
   "cell_type": "code",
   "execution_count": 6,
   "id": "1a3f8213-d70a-4eb4-a26d-37e048863295",
   "metadata": {},
   "outputs": [
    {
     "data": {
      "image/png": "[encoded data removed]",
      "text/plain": [
       "<Figure size 640x480 with 1 Axes>"
      ]
     },
     "metadata": {},
     "output_type": "display_data"
    }
   ],
   "source": [
    "sns.countplot(x='isFraud', data=Dataframe)\n",
    "plt.title('Fraudulent vs Non-Fraudulent Transactions')\n",
    "plt.show()"
   ]
  },
  {
   "cell_type": "markdown",
   "id": "a4df63f3-9dac-4983-b1e9-6f55e60c8c88",
   "metadata": {},
   "source": [
    "### B. Transaction Type Distribution"
   ]
  },
  {
   "cell_type": "code",
   "execution_count": 7,
   "id": "af177fb9-f52c-4b37-9c0d-ad4b1cd56ccc",
   "metadata": {},
   "outputs": [
    {
     "data": {
      "image/png": "[encoded data removed]",
      "text/plain": [
       "<Figure size 640x480 with 1 Axes>"
      ]
     },
     "metadata": {},
     "output_type": "display_data"
    }
   ],
   "source": [
    "sns.countplot(x='type', data=Dataframe, order=Dataframe['type'].value_counts().index)\n",
    "plt.title('Transaction Types')\n",
    "plt.show()"
   ]
  },
  {
   "cell_type": "markdown",
   "id": "be0a1415-4259-415e-b394-60fa0ffc89f8",
   "metadata": {},
   "source": [
    "### C. Amount Distribution"
   ]
  },
  {
   "cell_type": "code",
   "execution_count": 8,
   "id": "e8551e72-1cff-46f5-ad7f-8c32711eb85b",
   "metadata": {},
   "outputs": [
    {
     "data": {
      "image/png": "[encoded data removed]",
      "text/plain": [
       "<Figure size 640x480 with 1 Axes>"
      ]
     },
     "metadata": {},
     "output_type": "display_data"
    }
   ],
   "source": [
    "sns.histplot(Dataframe[Dataframe['amount'] < 100000]['amount'], bins=100)\n",
    "plt.title('Transaction Amount Distribution (capped at 100k)')\n",
    "plt.show()"
   ]
  },
  {
   "cell_type": "markdown",
   "id": "d0898f4a-78f9-45d9-aee0-55bc92275d6a",
   "metadata": {},
   "source": [
    "### D. Correlation Analysis"
   ]
  },
  {
   "cell_type": "code",
   "execution_count": 9,
   "id": "a4cddbbd-37cc-439a-a547-142b1b8318f9",
   "metadata": {},
   "outputs": [
    {
     "data": {
      "image/png": "[encoded data removed]",
      "text/plain": [
       "<Figure size 640x480 with 2 Axes>"
      ]
     },
     "metadata": {},
     "output_type": "display_data"
    }
   ],
   "source": [
    "corr = Dataframe[['amount', 'oldbalanceOrg', 'newbalanceOrig', 'oldbalanceDest', 'newbalanceDest', 'isFraud']].corr()\n",
    "sns.heatmap(corr, annot=True, cmap=\"coolwarm\")\n",
    "plt.title(\"Correlation Matrix\")\n",
    "plt.show()"
   ]
  },
  {
   "cell_type": "markdown",
   "id": "3d0083d4-6851-40a3-a0a8-ba109b67bf64",
   "metadata": {},
   "source": [
    "## 3. Data Cleaning"
   ]
  },
  {
   "cell_type": "markdown",
   "id": "4b9a3f8a-12ae-4960-b3dc-8a80004baf9c",
   "metadata": {},
   "source": [
    "Raw data often contains inconsistencies, missing values, and noise. Cleaning ensures the data is usable and free of artifacts that may mislead the model. In this step, we address incorrect balance calculations, remove irrelevant identifiers, and prepare data for modeling."
   ]
  },
  {
   "cell_type": "markdown",
   "id": "938b6b39-9d20-40e8-9919-48806288a115",
   "metadata": {},
   "source": [
    "### A. Feature Engineering"
   ]
  },
  {
   "cell_type": "markdown",
   "id": "7bee5aa6-93b3-44d2-9ff3-64693180a43d",
   "metadata": {},
   "source": [
    "<b>Feature Engineering</b> is a method that is usually followed based on domain knowledge to create few more features from existing features or features collected by external source in-order to enhance the performance of the model prediction."
   ]
  },
  {
   "cell_type": "code",
   "execution_count": 10,
   "id": "100c32dd-b1e7-487f-a87a-7b3005ccfb14",
   "metadata": {},
   "outputs": [],
   "source": [
    "Dataframe['errorOrig'] = Dataframe['oldbalanceOrg'] - Dataframe['newbalanceOrig'] - Dataframe['amount']\n",
    "Dataframe['errorDest'] = Dataframe['newbalanceDest'] - Dataframe['oldbalanceDest'] - Dataframe['amount']"
   ]
  },
  {
   "cell_type": "markdown",
   "id": "3eee9b4c-e6ef-4c2d-9776-f700fcaaf9f1",
   "metadata": {},
   "source": [
    "### B. Drop Identifiers"
   ]
  },
  {
   "cell_type": "code",
   "execution_count": 11,
   "id": "5fe5aa03-81d9-4d1f-bd1f-4c99b72a878e",
   "metadata": {},
   "outputs": [],
   "source": [
    "Dataframe_clean = Dataframe.drop(['nameOrig', 'nameDest'], axis=1)"
   ]
  },
  {
   "cell_type": "markdown",
   "id": "d2f52230-b771-4a5f-9502-f0a058ed2a12",
   "metadata": {},
   "source": [
    "### C. Encode Transaction Type"
   ]
  },
  {
   "cell_type": "code",
   "execution_count": 12,
   "id": "c6993ce0-9e56-4320-a6db-a7a670598cb3",
   "metadata": {},
   "outputs": [],
   "source": [
    "df_clean = pd.get_dummies(Dataframe_clean, columns=['type'], drop_first=True)"
   ]
  },
  {
   "cell_type": "markdown",
   "id": "6a8b4ac8-c684-442e-a107-58225dc793ab",
   "metadata": {},
   "source": [
    "## 4. Anomaly Detection using Isolation Forest"
   ]
  },
  {
   "cell_type": "markdown",
   "id": "99c659cf-bf3a-443a-975c-b71609ea32b7",
   "metadata": {},
   "source": [
    "In this section, we apply Isolation Forest, an unsupervised anomaly detection algorithm designed to isolate anomalies rather than profile normal data. It works by recursively partitioning the data and identifying points that are easier to isolate, which are more likely to be anomalies. We apply it to core numeric transaction features such as balance and amount fields to generate an 'anomaly_score' that flags unusual transaction patterns. This score is later used as an input feature to enhance fraud detection accuracy."
   ]
  },
  {
   "cell_type": "code",
   "execution_count": 13,
   "id": "f2faa066-5d3d-4214-94a4-d4af853b1288",
   "metadata": {},
   "outputs": [],
   "source": [
    "anomaly_features = ['amount', 'oldbalanceOrg', 'newbalanceOrig', 'oldbalanceDest', 'newbalanceDest']\n",
    "iso = IsolationForest(contamination=0.001, random_state=42)\n",
    "df_clean['anomaly_score'] = iso.fit_predict(df_clean[anomaly_features])\n",
    "df_clean['anomaly_score'] = df_clean['anomaly_score'].map({1: 0, -1: 1})  # 1 if anomaly"
   ]
  },
  {
   "cell_type": "code",
   "execution_count": 14,
   "id": "59f7c9fc-2764-4770-95c9-757f73bfd69b",
   "metadata": {},
   "outputs": [
    {
     "data": {
      "text/html": [
       "<div>\n",
       "<style scoped>\n",
       "    .dataframe tbody tr th:only-of-type {\n",
       "        vertical-align: middle;\n",
       "    }\n",
       "\n",
       "    .dataframe tbody tr th {\n",
       "        vertical-align: top;\n",
       "    }\n",
       "\n",
       "    .dataframe thead th {\n",
       "        text-align: right;\n",
       "    }\n",
       "</style>\n",
       "<table border=\"1\" class=\"dataframe\">\n",
       "  <thead>\n",
       "    <tr style=\"text-align: right;\">\n",
       "      <th></th>\n",
       "      <th>step</th>\n",
       "      <th>amount</th>\n",
       "      <th>oldbalanceOrg</th>\n",
       "      <th>newbalanceOrig</th>\n",
       "      <th>oldbalanceDest</th>\n",
       "      <th>newbalanceDest</th>\n",
       "      <th>isFraud</th>\n",
       "      <th>isFlaggedFraud</th>\n",
       "      <th>errorOrig</th>\n",
       "      <th>errorDest</th>\n",
       "      <th>type_CASH_OUT</th>\n",
       "      <th>type_DEBIT</th>\n",
       "      <th>type_PAYMENT</th>\n",
       "      <th>type_TRANSFER</th>\n",
       "      <th>anomaly_score</th>\n",
       "    </tr>\n",
       "  </thead>\n",
       "  <tbody>\n",
       "    <tr>\n",
       "      <th>1818</th>\n",
       "      <td>1</td>\n",
       "      <td>2317408.88</td>\n",
       "      <td>4165916.16</td>\n",
       "      <td>1848507.28</td>\n",
       "      <td>14437052.95</td>\n",
       "      <td>16874643.09</td>\n",
       "      <td>0</td>\n",
       "      <td>0</td>\n",
       "      <td>0.000000e+00</td>\n",
       "      <td>120181.26</td>\n",
       "      <td>False</td>\n",
       "      <td>False</td>\n",
       "      <td>False</td>\n",
       "      <td>True</td>\n",
       "      <td>1</td>\n",
       "    </tr>\n",
       "    <tr>\n",
       "      <th>4968</th>\n",
       "      <td>5</td>\n",
       "      <td>360262.92</td>\n",
       "      <td>11163522.31</td>\n",
       "      <td>11523785.23</td>\n",
       "      <td>17642401.40</td>\n",
       "      <td>16420556.26</td>\n",
       "      <td>0</td>\n",
       "      <td>0</td>\n",
       "      <td>-7.205258e+05</td>\n",
       "      <td>-1582108.06</td>\n",
       "      <td>False</td>\n",
       "      <td>False</td>\n",
       "      <td>False</td>\n",
       "      <td>False</td>\n",
       "      <td>1</td>\n",
       "    </tr>\n",
       "    <tr>\n",
       "      <th>6687</th>\n",
       "      <td>6</td>\n",
       "      <td>335389.99</td>\n",
       "      <td>11488141.21</td>\n",
       "      <td>11823531.20</td>\n",
       "      <td>17756311.00</td>\n",
       "      <td>18698748.85</td>\n",
       "      <td>0</td>\n",
       "      <td>0</td>\n",
       "      <td>-6.707800e+05</td>\n",
       "      <td>607047.86</td>\n",
       "      <td>False</td>\n",
       "      <td>False</td>\n",
       "      <td>False</td>\n",
       "      <td>False</td>\n",
       "      <td>1</td>\n",
       "    </tr>\n",
       "    <tr>\n",
       "      <th>6688</th>\n",
       "      <td>6</td>\n",
       "      <td>28747.10</td>\n",
       "      <td>11823531.20</td>\n",
       "      <td>11852278.31</td>\n",
       "      <td>15944428.35</td>\n",
       "      <td>17771335.88</td>\n",
       "      <td>0</td>\n",
       "      <td>0</td>\n",
       "      <td>-5.749421e+04</td>\n",
       "      <td>1798160.43</td>\n",
       "      <td>False</td>\n",
       "      <td>False</td>\n",
       "      <td>False</td>\n",
       "      <td>False</td>\n",
       "      <td>1</td>\n",
       "    </tr>\n",
       "    <tr>\n",
       "      <th>19057</th>\n",
       "      <td>8</td>\n",
       "      <td>175007.10</td>\n",
       "      <td>12587653.43</td>\n",
       "      <td>12587653.43</td>\n",
       "      <td>12587653.43</td>\n",
       "      <td>22590474.83</td>\n",
       "      <td>0</td>\n",
       "      <td>0</td>\n",
       "      <td>-1.750071e+05</td>\n",
       "      <td>9827814.30</td>\n",
       "      <td>False</td>\n",
       "      <td>False</td>\n",
       "      <td>False</td>\n",
       "      <td>False</td>\n",
       "      <td>1</td>\n",
       "    </tr>\n",
       "    <tr>\n",
       "      <th>...</th>\n",
       "      <td>...</td>\n",
       "      <td>...</td>\n",
       "      <td>...</td>\n",
       "      <td>...</td>\n",
       "      <td>...</td>\n",
       "      <td>...</td>\n",
       "      <td>...</td>\n",
       "      <td>...</td>\n",
       "      <td>...</td>\n",
       "      <td>...</td>\n",
       "      <td>...</td>\n",
       "      <td>...</td>\n",
       "      <td>...</td>\n",
       "      <td>...</td>\n",
       "      <td>...</td>\n",
       "    </tr>\n",
       "    <tr>\n",
       "      <th>6362456</th>\n",
       "      <td>730</td>\n",
       "      <td>10000000.00</td>\n",
       "      <td>37316255.05</td>\n",
       "      <td>27316255.05</td>\n",
       "      <td>0.00</td>\n",
       "      <td>0.00</td>\n",
       "      <td>1</td>\n",
       "      <td>0</td>\n",
       "      <td>-3.725290e-09</td>\n",
       "      <td>-10000000.00</td>\n",
       "      <td>False</td>\n",
       "      <td>False</td>\n",
       "      <td>False</td>\n",
       "      <td>True</td>\n",
       "      <td>1</td>\n",
       "    </tr>\n",
       "    <tr>\n",
       "      <th>6362458</th>\n",
       "      <td>730</td>\n",
       "      <td>10000000.00</td>\n",
       "      <td>27316255.05</td>\n",
       "      <td>17316255.05</td>\n",
       "      <td>0.00</td>\n",
       "      <td>0.00</td>\n",
       "      <td>1</td>\n",
       "      <td>0</td>\n",
       "      <td>0.000000e+00</td>\n",
       "      <td>-10000000.00</td>\n",
       "      <td>False</td>\n",
       "      <td>False</td>\n",
       "      <td>False</td>\n",
       "      <td>True</td>\n",
       "      <td>1</td>\n",
       "    </tr>\n",
       "    <tr>\n",
       "      <th>6362576</th>\n",
       "      <td>741</td>\n",
       "      <td>10000000.00</td>\n",
       "      <td>45674547.89</td>\n",
       "      <td>35674547.89</td>\n",
       "      <td>0.00</td>\n",
       "      <td>0.00</td>\n",
       "      <td>1</td>\n",
       "      <td>0</td>\n",
       "      <td>0.000000e+00</td>\n",
       "      <td>-10000000.00</td>\n",
       "      <td>False</td>\n",
       "      <td>False</td>\n",
       "      <td>False</td>\n",
       "      <td>True</td>\n",
       "      <td>1</td>\n",
       "    </tr>\n",
       "    <tr>\n",
       "      <th>6362578</th>\n",
       "      <td>741</td>\n",
       "      <td>10000000.00</td>\n",
       "      <td>35674547.89</td>\n",
       "      <td>25674547.89</td>\n",
       "      <td>0.00</td>\n",
       "      <td>0.00</td>\n",
       "      <td>1</td>\n",
       "      <td>0</td>\n",
       "      <td>0.000000e+00</td>\n",
       "      <td>-10000000.00</td>\n",
       "      <td>False</td>\n",
       "      <td>False</td>\n",
       "      <td>False</td>\n",
       "      <td>True</td>\n",
       "      <td>1</td>\n",
       "    </tr>\n",
       "    <tr>\n",
       "      <th>6362580</th>\n",
       "      <td>741</td>\n",
       "      <td>10000000.00</td>\n",
       "      <td>25674547.89</td>\n",
       "      <td>15674547.89</td>\n",
       "      <td>0.00</td>\n",
       "      <td>0.00</td>\n",
       "      <td>1</td>\n",
       "      <td>0</td>\n",
       "      <td>0.000000e+00</td>\n",
       "      <td>-10000000.00</td>\n",
       "      <td>False</td>\n",
       "      <td>False</td>\n",
       "      <td>False</td>\n",
       "      <td>True</td>\n",
       "      <td>1</td>\n",
       "    </tr>\n",
       "  </tbody>\n",
       "</table>\n",
       "<p>6278 rows × 15 columns</p>\n",
       "</div>"
      ],
      "text/plain": [
       "         step       amount  oldbalanceOrg  newbalanceOrig  oldbalanceDest  \\\n",
       "1818        1   2317408.88     4165916.16      1848507.28     14437052.95   \n",
       "4968        5    360262.92    11163522.31     11523785.23     17642401.40   \n",
       "6687        6    335389.99    11488141.21     11823531.20     17756311.00   \n",
       "6688        6     28747.10    11823531.20     11852278.31     15944428.35   \n",
       "19057       8    175007.10    12587653.43     12587653.43     12587653.43   \n",
       "...       ...          ...            ...             ...             ...   \n",
       "6362456   730  10000000.00    37316255.05     27316255.05            0.00   \n",
       "6362458   730  10000000.00    27316255.05     17316255.05            0.00   \n",
       "6362576   741  10000000.00    45674547.89     35674547.89            0.00   \n",
       "6362578   741  10000000.00    35674547.89     25674547.89            0.00   \n",
       "6362580   741  10000000.00    25674547.89     15674547.89            0.00   \n",
       "\n",
       "         newbalanceDest  isFraud  isFlaggedFraud     errorOrig    errorDest  \\\n",
       "1818        16874643.09        0               0  0.000000e+00    120181.26   \n",
       "4968        16420556.26        0               0 -7.205258e+05  -1582108.06   \n",
       "6687        18698748.85        0               0 -6.707800e+05    607047.86   \n",
       "6688        17771335.88        0               0 -5.749421e+04   1798160.43   \n",
       "19057       22590474.83        0               0 -1.750071e+05   9827814.30   \n",
       "...                 ...      ...             ...           ...          ...   \n",
       "6362456            0.00        1               0 -3.725290e-09 -10000000.00   \n",
       "6362458            0.00        1               0  0.000000e+00 -10000000.00   \n",
       "6362576            0.00        1               0  0.000000e+00 -10000000.00   \n",
       "6362578            0.00        1               0  0.000000e+00 -10000000.00   \n",
       "6362580            0.00        1               0  0.000000e+00 -10000000.00   \n",
       "\n",
       "         type_CASH_OUT  type_DEBIT  type_PAYMENT  type_TRANSFER  anomaly_score  \n",
       "1818             False       False         False           True              1  \n",
       "4968             False       False         False          False              1  \n",
       "6687             False       False         False          False              1  \n",
       "6688             False       False         False          False              1  \n",
       "19057            False       False         False          False              1  \n",
       "...                ...         ...           ...            ...            ...  \n",
       "6362456          False       False         False           True              1  \n",
       "6362458          False       False         False           True              1  \n",
       "6362576          False       False         False           True              1  \n",
       "6362578          False       False         False           True              1  \n",
       "6362580          False       False         False           True              1  \n",
       "\n",
       "[6278 rows x 15 columns]"
      ]
     },
     "execution_count": 14,
     "metadata": {},
     "output_type": "execute_result"
    }
   ],
   "source": [
    "df_clean[df_clean['anomaly_score'] == 1]"
   ]
  },
  {
   "cell_type": "markdown",
   "id": "b9fd5c0d-1abe-44c5-9a94-02209e9b7fbe",
   "metadata": {},
   "source": [
    "## 5. Preparing Data and Normalization"
   ]
  },
  {
   "cell_type": "markdown",
   "id": "d5460780-d5a3-4fdf-81bb-93c35cf4babe",
   "metadata": {},
   "source": [
    "Once the analysis and understanding of data is done, Its now to prepare data for model training by seperating features and target variables from same dataset and creating different array/matrix for both features and target but each row is mapped to that particular feature as present in the original dataset.\n",
    "\n",
    "<b>Normalization</b> is an important preprocessing step that rescales features to a common scale, typically between 0 and 1. This is especially useful for models like autoencoders or distance-based algorithms, which are sensitive to differences in feature magnitudes. Here, we use MinMaxScaler to normalize all features before training the autoencoder."
   ]
  },
  {
   "cell_type": "code",
   "execution_count": 15,
   "id": "53a3a5a9-3c99-428d-a100-17b779419479",
   "metadata": {},
   "outputs": [],
   "source": [
    "X = df_clean.drop('isFraud', axis=1)\n",
    "y = df_clean['isFraud']"
   ]
  },
  {
   "cell_type": "code",
   "execution_count": 16,
   "id": "e534e84e-d383-4e00-87e0-9e2e48eb8eff",
   "metadata": {},
   "outputs": [],
   "source": [
    "scaler = MinMaxScaler()\n",
    "X_scaled = scaler.fit_transform(X)"
   ]
  },
  {
   "cell_type": "markdown",
   "id": "6643611c-a803-43f3-94bd-9e97f1e459cd",
   "metadata": {},
   "source": [
    "## 6. Train, Validation and Test Split"
   ]
  },
  {
   "cell_type": "code",
   "execution_count": 17,
   "id": "610ae457-01f6-4d56-a0ac-650cc35eeed8",
   "metadata": {},
   "outputs": [],
   "source": [
    "X_train_val, X_test, y_train_val, y_test = train_test_split(X, y, stratify=y, test_size=0.15, random_state=42)\n",
    "X_train, X_val, y_train, y_val = train_test_split(X_train_val, y_train_val, stratify=y_train_val, test_size=0.15, random_state=42)"
   ]
  },
  {
   "cell_type": "code",
   "execution_count": 18,
   "id": "ad73646e-087b-4bc8-8f4d-5e6c98281460",
   "metadata": {},
   "outputs": [],
   "source": [
    "sm = SMOTE(random_state=42)\n",
    "X_train_res, y_train_res = sm.fit_resample(X_train, y_train)"
   ]
  },
  {
   "cell_type": "markdown",
   "id": "6857bb5b-7319-415f-ab24-c7b3bfa49492",
   "metadata": {},
   "source": [
    "## 7. Model Initialization and Model Training"
   ]
  },
  {
   "cell_type": "markdown",
   "id": "dfd2cd47-583a-45b7-acfd-c718a334e929",
   "metadata": {},
   "source": [
    "I have used a hybrid model: Isolation Forest identifies anomalies, and XGBoost—a gradient boosting algorithm—learns patterns in labeled data. XGBoost handles large-scale, imbalanced tabular data efficiently, and benefits from features engineered from raw data and anomaly scores."
   ]
  },
  {
   "cell_type": "code",
   "execution_count": 19,
   "id": "de2e526a-aa2a-4c73-a103-65fd72def756",
   "metadata": {},
   "outputs": [
    {
     "name": "stderr",
     "output_type": "stream",
     "text": [
      "C:\\Users\\Vivek K N\\anaconda3\\Lib\\site-packages\\xgboost\\training.py:183: UserWarning: [16:21:54] WARNING: C:\\actions-runner\\_work\\xgboost\\xgboost\\src\\learner.cc:738: \n",
      "Parameters: { \"use_label_encoder\" } are not used.\n",
      "\n",
      "  bst.update(dtrain, iteration=i, fobj=obj)\n"
     ]
    },
    {
     "data": {
      "text/html": [
       "<style>#sk-container-id-1 {\n",
       "  /* Definition of color scheme common for light and dark mode */\n",
       "  --sklearn-color-text: black;\n",
       "  --sklearn-color-line: gray;\n",
       "  /* Definition of color scheme for unfitted estimators */\n",
       "  --sklearn-color-unfitted-level-0: #fff5e6;\n",
       "  --sklearn-color-unfitted-level-1: #f6e4d2;\n",
       "  --sklearn-color-unfitted-level-2: #ffe0b3;\n",
       "  --sklearn-color-unfitted-level-3: chocolate;\n",
       "  /* Definition of color scheme for fitted estimators */\n",
       "  --sklearn-color-fitted-level-0: #f0f8ff;\n",
       "  --sklearn-color-fitted-level-1: #d4ebff;\n",
       "  --sklearn-color-fitted-level-2: #b3dbfd;\n",
       "  --sklearn-color-fitted-level-3: cornflowerblue;\n",
       "\n",
       "  /* Specific color for light theme */\n",
       "  --sklearn-color-text-on-default-background: var(--sg-text-color, var(--theme-code-foreground, var(--jp-content-font-color1, black)));\n",
       "  --sklearn-color-background: var(--sg-background-color, var(--theme-background, var(--jp-layout-color0, white)));\n",
       "  --sklearn-color-border-box: var(--sg-text-color, var(--theme-code-foreground, var(--jp-content-font-color1, black)));\n",
       "  --sklearn-color-icon: #696969;\n",
       "\n",
       "  @media (prefers-color-scheme: dark) {\n",
       "    /* Redefinition of color scheme for dark theme */\n",
       "    --sklearn-color-text-on-default-background: var(--sg-text-color, var(--theme-code-foreground, var(--jp-content-font-color1, white)));\n",
       "    --sklearn-color-background: var(--sg-background-color, var(--theme-background, var(--jp-layout-color0, #111)));\n",
       "    --sklearn-color-border-box: var(--sg-text-color, var(--theme-code-foreground, var(--jp-content-font-color1, white)));\n",
       "    --sklearn-color-icon: #878787;\n",
       "  }\n",
       "}\n",
       "\n",
       "#sk-container-id-1 {\n",
       "  color: var(--sklearn-color-text);\n",
       "}\n",
       "\n",
       "#sk-container-id-1 pre {\n",
       "  padding: 0;\n",
       "}\n",
       "\n",
       "#sk-container-id-1 input.sk-hidden--visually {\n",
       "  border: 0;\n",
       "  clip: rect(1px 1px 1px 1px);\n",
       "  clip: rect(1px, 1px, 1px, 1px);\n",
       "  height: 1px;\n",
       "  margin: -1px;\n",
       "  overflow: hidden;\n",
       "  padding: 0;\n",
       "  position: absolute;\n",
       "  width: 1px;\n",
       "}\n",
       "\n",
       "#sk-container-id-1 div.sk-dashed-wrapped {\n",
       "  border: 1px dashed var(--sklearn-color-line);\n",
       "  margin: 0 0.4em 0.5em 0.4em;\n",
       "  box-sizing: border-box;\n",
       "  padding-bottom: 0.4em;\n",
       "  background-color: var(--sklearn-color-background);\n",
       "}\n",
       "\n",
       "#sk-container-id-1 div.sk-container {\n",
       "  /* jupyter's `normalize.less` sets `[hidden] { display: none; }`\n",
       "     but bootstrap.min.css set `[hidden] { display: none !important; }`\n",
       "     so we also need the `!important` here to be able to override the\n",
       "     default hidden behavior on the sphinx rendered scikit-learn.org.\n",
       "     See: https://github.com/scikit-learn/scikit-learn/issues/21755 */\n",
       "  display: inline-block !important;\n",
       "  position: relative;\n",
       "}\n",
       "\n",
       "#sk-container-id-1 div.sk-text-repr-fallback {\n",
       "  display: none;\n",
       "}\n",
       "\n",
       "div.sk-parallel-item,\n",
       "div.sk-serial,\n",
       "div.sk-item {\n",
       "  /* draw centered vertical line to link estimators */\n",
       "  background-image: linear-gradient(var(--sklearn-color-text-on-default-background), var(--sklearn-color-text-on-default-background));\n",
       "  background-size: 2px 100%;\n",
       "  background-repeat: no-repeat;\n",
       "  background-position: center center;\n",
       "}\n",
       "\n",
       "/* Parallel-specific style estimator block */\n",
       "\n",
       "#sk-container-id-1 div.sk-parallel-item::after {\n",
       "  content: \"\";\n",
       "  width: 100%;\n",
       "  border-bottom: 2px solid var(--sklearn-color-text-on-default-background);\n",
       "  flex-grow: 1;\n",
       "}\n",
       "\n",
       "#sk-container-id-1 div.sk-parallel {\n",
       "  display: flex;\n",
       "  align-items: stretch;\n",
       "  justify-content: center;\n",
       "  background-color: var(--sklearn-color-background);\n",
       "  position: relative;\n",
       "}\n",
       "\n",
       "#sk-container-id-1 div.sk-parallel-item {\n",
       "  display: flex;\n",
       "  flex-direction: column;\n",
       "}\n",
       "\n",
       "#sk-container-id-1 div.sk-parallel-item:first-child::after {\n",
       "  align-self: flex-end;\n",
       "  width: 50%;\n",
       "}\n",
       "\n",
       "#sk-container-id-1 div.sk-parallel-item:last-child::after {\n",
       "  align-self: flex-start;\n",
       "  width: 50%;\n",
       "}\n",
       "\n",
       "#sk-container-id-1 div.sk-parallel-item:only-child::after {\n",
       "  width: 0;\n",
       "}\n",
       "\n",
       "/* Serial-specific style estimator block */\n",
       "\n",
       "#sk-container-id-1 div.sk-serial {\n",
       "  display: flex;\n",
       "  flex-direction: column;\n",
       "  align-items: center;\n",
       "  background-color: var(--sklearn-color-background);\n",
       "  padding-right: 1em;\n",
       "  padding-left: 1em;\n",
       "}\n",
       "\n",
       "\n",
       "/* Toggleable style: style used for estimator/Pipeline/ColumnTransformer box that is\n",
       "clickable and can be expanded/collapsed.\n",
       "- Pipeline and ColumnTransformer use this feature and define the default style\n",
       "- Estimators will overwrite some part of the style using the `sk-estimator` class\n",
       "*/\n",
       "\n",
       "/* Pipeline and ColumnTransformer style (default) */\n",
       "\n",
       "#sk-container-id-1 div.sk-toggleable {\n",
       "  /* Default theme specific background. It is overwritten whether we have a\n",
       "  specific estimator or a Pipeline/ColumnTransformer */\n",
       "  background-color: var(--sklearn-color-background);\n",
       "}\n",
       "\n",
       "/* Toggleable label */\n",
       "#sk-container-id-1 label.sk-toggleable__label {\n",
       "  cursor: pointer;\n",
       "  display: block;\n",
       "  width: 100%;\n",
       "  margin-bottom: 0;\n",
       "  padding: 0.5em;\n",
       "  box-sizing: border-box;\n",
       "  text-align: center;\n",
       "}\n",
       "\n",
       "#sk-container-id-1 label.sk-toggleable__label-arrow:before {\n",
       "  /* Arrow on the left of the label */\n",
       "  content: \"▸\";\n",
       "  float: left;\n",
       "  margin-right: 0.25em;\n",
       "  color: var(--sklearn-color-icon);\n",
       "}\n",
       "\n",
       "#sk-container-id-1 label.sk-toggleable__label-arrow:hover:before {\n",
       "  color: var(--sklearn-color-text);\n",
       "}\n",
       "\n",
       "/* Toggleable content - dropdown */\n",
       "\n",
       "#sk-container-id-1 div.sk-toggleable__content {\n",
       "  max-height: 0;\n",
       "  max-width: 0;\n",
       "  overflow: hidden;\n",
       "  text-align: left;\n",
       "  /* unfitted */\n",
       "  background-color: var(--sklearn-color-unfitted-level-0);\n",
       "}\n",
       "\n",
       "#sk-container-id-1 div.sk-toggleable__content.fitted {\n",
       "  /* fitted */\n",
       "  background-color: var(--sklearn-color-fitted-level-0);\n",
       "}\n",
       "\n",
       "#sk-container-id-1 div.sk-toggleable__content pre {\n",
       "  margin: 0.2em;\n",
       "  border-radius: 0.25em;\n",
       "  color: var(--sklearn-color-text);\n",
       "  /* unfitted */\n",
       "  background-color: var(--sklearn-color-unfitted-level-0);\n",
       "}\n",
       "\n",
       "#sk-container-id-1 div.sk-toggleable__content.fitted pre {\n",
       "  /* unfitted */\n",
       "  background-color: var(--sklearn-color-fitted-level-0);\n",
       "}\n",
       "\n",
       "#sk-container-id-1 input.sk-toggleable__control:checked~div.sk-toggleable__content {\n",
       "  /* Expand drop-down */\n",
       "  max-height: 200px;\n",
       "  max-width: 100%;\n",
       "  overflow: auto;\n",
       "}\n",
       "\n",
       "#sk-container-id-1 input.sk-toggleable__control:checked~label.sk-toggleable__label-arrow:before {\n",
       "  content: \"▾\";\n",
       "}\n",
       "\n",
       "/* Pipeline/ColumnTransformer-specific style */\n",
       "\n",
       "#sk-container-id-1 div.sk-label input.sk-toggleable__control:checked~label.sk-toggleable__label {\n",
       "  color: var(--sklearn-color-text);\n",
       "  background-color: var(--sklearn-color-unfitted-level-2);\n",
       "}\n",
       "\n",
       "#sk-container-id-1 div.sk-label.fitted input.sk-toggleable__control:checked~label.sk-toggleable__label {\n",
       "  background-color: var(--sklearn-color-fitted-level-2);\n",
       "}\n",
       "\n",
       "/* Estimator-specific style */\n",
       "\n",
       "/* Colorize estimator box */\n",
       "#sk-container-id-1 div.sk-estimator input.sk-toggleable__control:checked~label.sk-toggleable__label {\n",
       "  /* unfitted */\n",
       "  background-color: var(--sklearn-color-unfitted-level-2);\n",
       "}\n",
       "\n",
       "#sk-container-id-1 div.sk-estimator.fitted input.sk-toggleable__control:checked~label.sk-toggleable__label {\n",
       "  /* fitted */\n",
       "  background-color: var(--sklearn-color-fitted-level-2);\n",
       "}\n",
       "\n",
       "#sk-container-id-1 div.sk-label label.sk-toggleable__label,\n",
       "#sk-container-id-1 div.sk-label label {\n",
       "  /* The background is the default theme color */\n",
       "  color: var(--sklearn-color-text-on-default-background);\n",
       "}\n",
       "\n",
       "/* On hover, darken the color of the background */\n",
       "#sk-container-id-1 div.sk-label:hover label.sk-toggleable__label {\n",
       "  color: var(--sklearn-color-text);\n",
       "  background-color: var(--sklearn-color-unfitted-level-2);\n",
       "}\n",
       "\n",
       "/* Label box, darken color on hover, fitted */\n",
       "#sk-container-id-1 div.sk-label.fitted:hover label.sk-toggleable__label.fitted {\n",
       "  color: var(--sklearn-color-text);\n",
       "  background-color: var(--sklearn-color-fitted-level-2);\n",
       "}\n",
       "\n",
       "/* Estimator label */\n",
       "\n",
       "#sk-container-id-1 div.sk-label label {\n",
       "  font-family: monospace;\n",
       "  font-weight: bold;\n",
       "  display: inline-block;\n",
       "  line-height: 1.2em;\n",
       "}\n",
       "\n",
       "#sk-container-id-1 div.sk-label-container {\n",
       "  text-align: center;\n",
       "}\n",
       "\n",
       "/* Estimator-specific */\n",
       "#sk-container-id-1 div.sk-estimator {\n",
       "  font-family: monospace;\n",
       "  border: 1px dotted var(--sklearn-color-border-box);\n",
       "  border-radius: 0.25em;\n",
       "  box-sizing: border-box;\n",
       "  margin-bottom: 0.5em;\n",
       "  /* unfitted */\n",
       "  background-color: var(--sklearn-color-unfitted-level-0);\n",
       "}\n",
       "\n",
       "#sk-container-id-1 div.sk-estimator.fitted {\n",
       "  /* fitted */\n",
       "  background-color: var(--sklearn-color-fitted-level-0);\n",
       "}\n",
       "\n",
       "/* on hover */\n",
       "#sk-container-id-1 div.sk-estimator:hover {\n",
       "  /* unfitted */\n",
       "  background-color: var(--sklearn-color-unfitted-level-2);\n",
       "}\n",
       "\n",
       "#sk-container-id-1 div.sk-estimator.fitted:hover {\n",
       "  /* fitted */\n",
       "  background-color: var(--sklearn-color-fitted-level-2);\n",
       "}\n",
       "\n",
       "/* Specification for estimator info (e.g. \"i\" and \"?\") */\n",
       "\n",
       "/* Common style for \"i\" and \"?\" */\n",
       "\n",
       ".sk-estimator-doc-link,\n",
       "a:link.sk-estimator-doc-link,\n",
       "a:visited.sk-estimator-doc-link {\n",
       "  float: right;\n",
       "  font-size: smaller;\n",
       "  line-height: 1em;\n",
       "  font-family: monospace;\n",
       "  background-color: var(--sklearn-color-background);\n",
       "  border-radius: 1em;\n",
       "  height: 1em;\n",
       "  width: 1em;\n",
       "  text-decoration: none !important;\n",
       "  margin-left: 1ex;\n",
       "  /* unfitted */\n",
       "  border: var(--sklearn-color-unfitted-level-1) 1pt solid;\n",
       "  color: var(--sklearn-color-unfitted-level-1);\n",
       "}\n",
       "\n",
       ".sk-estimator-doc-link.fitted,\n",
       "a:link.sk-estimator-doc-link.fitted,\n",
       "a:visited.sk-estimator-doc-link.fitted {\n",
       "  /* fitted */\n",
       "  border: var(--sklearn-color-fitted-level-1) 1pt solid;\n",
       "  color: var(--sklearn-color-fitted-level-1);\n",
       "}\n",
       "\n",
       "/* On hover */\n",
       "div.sk-estimator:hover .sk-estimator-doc-link:hover,\n",
       ".sk-estimator-doc-link:hover,\n",
       "div.sk-label-container:hover .sk-estimator-doc-link:hover,\n",
       ".sk-estimator-doc-link:hover {\n",
       "  /* unfitted */\n",
       "  background-color: var(--sklearn-color-unfitted-level-3);\n",
       "  color: var(--sklearn-color-background);\n",
       "  text-decoration: none;\n",
       "}\n",
       "\n",
       "div.sk-estimator.fitted:hover .sk-estimator-doc-link.fitted:hover,\n",
       ".sk-estimator-doc-link.fitted:hover,\n",
       "div.sk-label-container:hover .sk-estimator-doc-link.fitted:hover,\n",
       ".sk-estimator-doc-link.fitted:hover {\n",
       "  /* fitted */\n",
       "  background-color: var(--sklearn-color-fitted-level-3);\n",
       "  color: var(--sklearn-color-background);\n",
       "  text-decoration: none;\n",
       "}\n",
       "\n",
       "/* Span, style for the box shown on hovering the info icon */\n",
       ".sk-estimator-doc-link span {\n",
       "  display: none;\n",
       "  z-index: 9999;\n",
       "  position: relative;\n",
       "  font-weight: normal;\n",
       "  right: .2ex;\n",
       "  padding: .5ex;\n",
       "  margin: .5ex;\n",
       "  width: min-content;\n",
       "  min-width: 20ex;\n",
       "  max-width: 50ex;\n",
       "  color: var(--sklearn-color-text);\n",
       "  box-shadow: 2pt 2pt 4pt #999;\n",
       "  /* unfitted */\n",
       "  background: var(--sklearn-color-unfitted-level-0);\n",
       "  border: .5pt solid var(--sklearn-color-unfitted-level-3);\n",
       "}\n",
       "\n",
       ".sk-estimator-doc-link.fitted span {\n",
       "  /* fitted */\n",
       "  background: var(--sklearn-color-fitted-level-0);\n",
       "  border: var(--sklearn-color-fitted-level-3);\n",
       "}\n",
       "\n",
       ".sk-estimator-doc-link:hover span {\n",
       "  display: block;\n",
       "}\n",
       "\n",
       "/* \"?\"-specific style due to the `<a>` HTML tag */\n",
       "\n",
       "#sk-container-id-1 a.estimator_doc_link {\n",
       "  float: right;\n",
       "  font-size: 1rem;\n",
       "  line-height: 1em;\n",
       "  font-family: monospace;\n",
       "  background-color: var(--sklearn-color-background);\n",
       "  border-radius: 1rem;\n",
       "  height: 1rem;\n",
       "  width: 1rem;\n",
       "  text-decoration: none;\n",
       "  /* unfitted */\n",
       "  color: var(--sklearn-color-unfitted-level-1);\n",
       "  border: var(--sklearn-color-unfitted-level-1) 1pt solid;\n",
       "}\n",
       "\n",
       "#sk-container-id-1 a.estimator_doc_link.fitted {\n",
       "  /* fitted */\n",
       "  border: var(--sklearn-color-fitted-level-1) 1pt solid;\n",
       "  color: var(--sklearn-color-fitted-level-1);\n",
       "}\n",
       "\n",
       "/* On hover */\n",
       "#sk-container-id-1 a.estimator_doc_link:hover {\n",
       "  /* unfitted */\n",
       "  background-color: var(--sklearn-color-unfitted-level-3);\n",
       "  color: var(--sklearn-color-background);\n",
       "  text-decoration: none;\n",
       "}\n",
       "\n",
       "#sk-container-id-1 a.estimator_doc_link.fitted:hover {\n",
       "  /* fitted */\n",
       "  background-color: var(--sklearn-color-fitted-level-3);\n",
       "}\n",
       "</style><div id=\"sk-container-id-1\" class=\"sk-top-container\"><div class=\"sk-text-repr-fallback\"><pre>XGBClassifier(base_score=None, booster=None, callbacks=None,\n",
       "              colsample_bylevel=None, colsample_bynode=None,\n",
       "              colsample_bytree=None, device=None, early_stopping_rounds=None,\n",
       "              enable_categorical=False, eval_metric=&#x27;logloss&#x27;,\n",
       "              feature_types=None, feature_weights=None, gamma=None,\n",
       "              grow_policy=None, importance_type=None,\n",
       "              interaction_constraints=None, learning_rate=None, max_bin=None,\n",
       "              max_cat_threshold=None, max_cat_to_onehot=None,\n",
       "              max_delta_step=None, max_depth=None, max_leaves=None,\n",
       "              min_child_weight=None, missing=nan, monotone_constraints=None,\n",
       "              multi_strategy=None, n_estimators=None, n_jobs=None,\n",
       "              num_parallel_tree=None, ...)</pre><b>In a Jupyter environment, please rerun this cell to show the HTML representation or trust the notebook. <br />On GitHub, the HTML representation is unable to render, please try loading this page with nbviewer.org.</b></div><div class=\"sk-container\" hidden><div class=\"sk-item\"><div class=\"sk-estimator fitted sk-toggleable\"><input class=\"sk-toggleable__control sk-hidden--visually\" id=\"sk-estimator-id-1\" type=\"checkbox\" checked><label for=\"sk-estimator-id-1\" class=\"sk-toggleable__label fitted sk-toggleable__label-arrow fitted\">&nbsp;&nbsp;XGBClassifier<a class=\"sk-estimator-doc-link fitted\" rel=\"noreferrer\" target=\"_blank\" href=\"https://xgboost.readthedocs.io/en/release_3.0.0/python/python_api.html#xgboost.XGBClassifier\">?<span>Documentation for XGBClassifier</span></a><span class=\"sk-estimator-doc-link fitted\">i<span>Fitted</span></span></label><div class=\"sk-toggleable__content fitted\"><pre>XGBClassifier(base_score=None, booster=None, callbacks=None,\n",
       "              colsample_bylevel=None, colsample_bynode=None,\n",
       "              colsample_bytree=None, device=None, early_stopping_rounds=None,\n",
       "              enable_categorical=False, eval_metric=&#x27;logloss&#x27;,\n",
       "              feature_types=None, feature_weights=None, gamma=None,\n",
       "              grow_policy=None, importance_type=None,\n",
       "              interaction_constraints=None, learning_rate=None, max_bin=None,\n",
       "              max_cat_threshold=None, max_cat_to_onehot=None,\n",
       "              max_delta_step=None, max_depth=None, max_leaves=None,\n",
       "              min_child_weight=None, missing=nan, monotone_constraints=None,\n",
       "              multi_strategy=None, n_estimators=None, n_jobs=None,\n",
       "              num_parallel_tree=None, ...)</pre></div> </div></div></div></div>"
      ],
      "text/plain": [
       "XGBClassifier(base_score=None, booster=None, callbacks=None,\n",
       "              colsample_bylevel=None, colsample_bynode=None,\n",
       "              colsample_bytree=None, device=None, early_stopping_rounds=None,\n",
       "              enable_categorical=False, eval_metric='logloss',\n",
       "              feature_types=None, feature_weights=None, gamma=None,\n",
       "              grow_policy=None, importance_type=None,\n",
       "              interaction_constraints=None, learning_rate=None, max_bin=None,\n",
       "              max_cat_threshold=None, max_cat_to_onehot=None,\n",
       "              max_delta_step=None, max_depth=None, max_leaves=None,\n",
       "              min_child_weight=None, missing=nan, monotone_constraints=None,\n",
       "              multi_strategy=None, n_estimators=None, n_jobs=None,\n",
       "              num_parallel_tree=None, ...)"
      ]
     },
     "execution_count": 19,
     "metadata": {},
     "output_type": "execute_result"
    }
   ],
   "source": [
    "model = XGBClassifier(use_label_encoder=False, eval_metric='logloss')\n",
    "model.fit(X_train_res, y_train_res)"
   ]
  },
  {
   "cell_type": "markdown",
   "id": "9d98901a-5bd8-455f-95e4-e389c68759a6",
   "metadata": {},
   "source": [
    "## 8. Prediction and Validation"
   ]
  },
  {
   "cell_type": "code",
   "execution_count": 20,
   "id": "f8841a24-fe99-4877-9a61-1661bac1532b",
   "metadata": {},
   "outputs": [],
   "source": [
    "y_pred = model.predict(X_test)\n",
    "y_prob = model.predict_proba(X_test)[:, 1]"
   ]
  },
  {
   "cell_type": "code",
   "execution_count": 21,
   "id": "d556f27c-0ff4-4886-9daa-f1b8682e4ea2",
   "metadata": {},
   "outputs": [
    {
     "name": "stdout",
     "output_type": "stream",
     "text": [
      "              precision    recall  f1-score   support\n",
      "\n",
      "           0       1.00      1.00      1.00    953161\n",
      "           1       0.80      0.99      0.89      1232\n",
      "\n",
      "    accuracy                           1.00    954393\n",
      "   macro avg       0.90      1.00      0.94    954393\n",
      "weighted avg       1.00      1.00      1.00    954393\n",
      "\n",
      "ROC AUC: 0.9996124310746919\n"
     ]
    }
   ],
   "source": [
    "print(classification_report(y_test, y_pred))\n",
    "print(\"ROC AUC:\", roc_auc_score(y_test, y_prob))"
   ]
  },
  {
   "cell_type": "code",
   "execution_count": 22,
   "id": "7ece941d-53a9-4bd9-9629-954d94dc18a4",
   "metadata": {},
   "outputs": [
    {
     "data": {
      "image/png": "[encoded data removed]",
      "text/plain": [
       "<Figure size 640x480 with 1 Axes>"
      ]
     },
     "metadata": {},
     "output_type": "display_data"
    }
   ],
   "source": [
    "fpr, tpr, _ = roc_curve(y_test, y_prob)\n",
    "plt.plot(fpr, tpr)\n",
    "plt.xlabel(\"False Positive Rate\")\n",
    "plt.ylabel(\"True Positive Rate\")\n",
    "plt.title(\"ROC Curve\")\n",
    "plt.grid(True)\n",
    "plt.show()"
   ]
  },
  {
   "cell_type": "code",
   "execution_count": 23,
   "id": "2b6460ef-1f74-46fa-bb87-f03d75bbf73a",
   "metadata": {},
   "outputs": [
    {
     "data": {
      "image/png": "[encoded data removed]",
      "text/plain": [
       "<Figure size 640x480 with 2 Axes>"
      ]
     },
     "metadata": {},
     "output_type": "display_data"
    }
   ],
   "source": [
    "sns.heatmap(confusion_matrix(y_test, y_pred), annot=True, fmt='d', cmap='Blues')\n",
    "plt.title(\"Confusion Matrix\")\n",
    "plt.show()"
   ]
  },
  {
   "cell_type": "markdown",
   "id": "763a6b66-ce8c-46d8-bf7f-aa1e22cf48f1",
   "metadata": {},
   "source": [
    "## Feature Importance"
   ]
  },
  {
   "cell_type": "code",
   "execution_count": 24,
   "id": "5b87d701-1158-4291-a89b-61bf3b7b209c",
   "metadata": {},
   "outputs": [],
   "source": [
    "importances = model.feature_importances_\n",
    "features = X.columns\n",
    "sorted_idx = importances.argsort()"
   ]
  },
  {
   "cell_type": "code",
   "execution_count": 25,
   "id": "d2fdbfa9-a9a3-463f-a97c-b917be8746e1",
   "metadata": {},
   "outputs": [
    {
     "data": {
      "image/png": "[encoded data removed]",
      "text/plain": [
       "<Figure size 1000x600 with 1 Axes>"
      ]
     },
     "metadata": {},
     "output_type": "display_data"
    }
   ],
   "source": [
    "plt.figure(figsize=(10, 6))\n",
    "plt.barh(features[sorted_idx], importances[sorted_idx])\n",
    "plt.title(\"Feature Importances\")\n",
    "plt.show()"
   ]
  },
  {
   "cell_type": "markdown",
   "id": "94839680-41e2-4b34-8daa-cf8bbe981dd8",
   "metadata": {},
   "source": [
    "## Question and Answers"
   ]
  },
  {
   "cell_type": "markdown",
   "id": "2d6c608a-86b0-47da-991b-78ddc0b4ff63",
   "metadata": {},
   "source": [
    "1. In this notebook, missing values are implicitly handled by using engineered features like balance errors and avoiding columns with incomplete merchant information. Outliers are addressed through Isolation Forest, which flags unusual transaction behavior based on balance and amount anomalies. Multicollinearity is assessed via a correlation heatmap to ensure that highly correlated features do not bias the model."
   ]
  },
  {
   "cell_type": "markdown",
   "id": "b0837914-77e0-4667-b4bb-07507527121c",
   "metadata": {},
   "source": [
    "2. Our fraud detection system uses a combination of two techniques to identify suspicious transactions.\n",
    "First, we apply an Isolation Forest to detect anomalies — this helps flag transactions that significantly deviate from normal patterns, even if they haven’t been labeled as fraud before.\n",
    "Next, we use a supervised machine learning model, XGBoost, which is trained on known fraud and non-fraud transactions. It learns patterns based on transaction type, amount, balance behavior, and the anomaly score. This hybrid approach allows the model to catch both known types of fraud and new, unusual activities. It is accurate, scalable, and understandable for both technical teams and business stakeholders."
   ]
  },
  {
   "cell_type": "markdown",
   "id": "14c23383-9e49-4fa7-b7ca-3533f7246e34",
   "metadata": {},
   "source": [
    "3. Feature selection was based on domain knowledge (e.g., transaction type, amount), correlation with fraud, and engineered metrics like balance discrepancies. The anomaly score from Isolation Forest was also included to improve model sensitivity to suspicious behavior.\n"
   ]
  },
  {
   "cell_type": "markdown",
   "id": "e28bb67d-6010-468c-9c9e-94b5312c7e1f",
   "metadata": {},
   "source": [
    "4.  We evaluate the model using precision, recall, F1-score, and ROC AUC, which are appropriate for imbalanced classification problems. These metrics ensure both the model's accuracy and its ability to detect rare fraud cases."
   ]
  },
  {
   "cell_type": "markdown",
   "id": "33b808be-b31a-483b-afdb-86690bc8b282",
   "metadata": {},
   "source": [
    "5. According to feature importance from XGBoost, the most predictive factors are transaction amount, transaction type (TRANSFER/CASH_OUT), and engineered balance errors (errorOrig and errorDest). Anomaly scores also contributed significantly."
   ]
  },
  {
   "cell_type": "markdown",
   "id": "eea86c9e-735a-46fe-8b12-aa7a5483c110",
   "metadata": {},
   "source": [
    "6. Yes, they make sense. Fraudsters typically transfer large amounts and immediately cash out. Inconsistent balance updates (captured by error features) and rare transaction behaviors are strong signals of fraud. This aligns with known fraud strategies in financial systems."
   ]
  },
  {
   "cell_type": "markdown",
   "id": "a63eea41-9cc7-475b-ba05-d4bd1f2640ad",
   "metadata": {},
   "source": [
    "7. The company should adopt real-time fraud scoring, two-factor authentication for high-risk transactions, session tracking, transaction velocity checks, and anomaly detection services integrated into backend systems."
   ]
  },
  {
   "cell_type": "markdown",
   "id": "6978f4db-3641-4030-94f9-938a030e0da0",
   "metadata": {},
   "source": [
    "8. Effectiveness can be evaluated through A/B testing (comparing fraud rates), tracking false positive/negative rates, customer feedback, and monitoring precision-recall drift over time. Regular retraining and performance auditing should be included."
   ]
  },
  {
   "cell_type": "code",
   "execution_count": null,
   "id": "b344ed8c-0dc8-434c-8110-646d51f76ba6",
   "metadata": {},
   "outputs": [],
   "source": []
  }
 ],
 "metadata": {
  "kernelspec": {
   "display_name": "Python 3 (ipykernel)",
   "language": "python",
   "name": "python3"
  },
  "language_info": {
   "codemirror_mode": {
    "name": "ipython",
    "version": 3
   },
   "file_extension": ".py",
   "mimetype": "text/x-python",
   "name": "python",
   "nbconvert_exporter": "python",
   "pygments_lexer": "ipython3",
   "version": "3.12.3"
  }
 },
 "nbformat": 4,
 "nbformat_minor": 5
}
